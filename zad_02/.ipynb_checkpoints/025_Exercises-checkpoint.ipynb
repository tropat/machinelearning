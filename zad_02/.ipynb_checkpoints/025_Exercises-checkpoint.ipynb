{
 "cells": [
  {
   "cell_type": "markdown",
   "metadata": {},
   "source": [
    "# Exercises\n",
    "\n",
    "There are three exercises in this notebook:\n",
    "\n",
    "1. Use the cross-validation method to test the linear regression with different $\\alpha$ values, at least three.\n",
    "2. Implement a SGD method that will train the Lasso regression for 10 epochs.\n",
    "3. Extend the Fisher's classifier to work with two features. Use the class as the $y$."
   ]
  },
  {
   "cell_type": "markdown",
   "metadata": {},
   "source": [
    "## 1. Cross-validation linear regression\n",
    "\n",
    "You need to change the variable ``alpha`` to be a list of alphas. Next do a loop and finally compare the results."
   ]
  },
  {
   "cell_type": "code",
   "execution_count": 7,
   "metadata": {},
   "outputs": [],
   "source": [
    "import numpy as np\n",
    "import pandas as pd\n",
    "import matplotlib.pyplot as plt"
   ]
  },
  {
   "cell_type": "code",
   "execution_count": 12,
   "metadata": {},
   "outputs": [
    {
     "name": "stdout",
     "output_type": "stream",
     "text": [
      "Alpha=0.1: w=[[-101.72397081    1.16978757]]\n",
      "Alpha=0.2: w=[[-70.75142154   0.99445055]]\n",
      "Alpha=0.3: w=[[-54.23704349   0.90096184]]\n"
     ]
    }
   ],
   "source": [
    "x = np.array([188, 181, 197, 168, 167, 187, 178, 194, 140, 176, 168, 192, 173, 142, 176]).reshape(-1, 1).reshape(15,1)\n",
    "y = np.array([141, 106, 149, 59, 79, 136, 65, 136, 52, 87, 115, 140, 82, 69, 121]).reshape(-1, 1).reshape(15,1)\n",
    "\n",
    "x = np.asmatrix(np.c_[np.ones((15,1)),x])\n",
    "\n",
    "I = np.identity(2)\n",
    "alphas = [0.1,0.2,0.3] # change here\n",
    "results = []\n",
    "\n",
    "# add 1-3 line of code here\n",
    "for alpha in alphas:\n",
    "    w = np.linalg.inv(x.T*x + alpha * I)*x.T*y\n",
    "    w=w.ravel()\n",
    "    results.append(w)\n",
    "\n",
    "# add 1-3 lines to compare the results\n",
    "for i, w in enumerate(results):\n",
    "    print(f'Alpha={alphas[i]}: w={w}')"
   ]
  },
  {
   "cell_type": "markdown",
   "metadata": {},
   "source": [
    "## 2. Implement based on the Ridge regression example, the Lasso regression.\n",
    "\n",
    "Please implement the SGD method and compare the results with the sklearn Lasso regression results. "
   ]
  },
  {
   "cell_type": "code",
   "execution_count": 19,
   "metadata": {},
   "outputs": [],
   "source": [
    "def sgd():\n",
    "    # your code goes here\n",
    "    pass"
   ]
  },
  {
   "cell_type": "code",
   "execution_count": 20,
   "metadata": {},
   "outputs": [
    {
     "ename": "ValueError",
     "evalue": "shapes (1,2) and (1,1) not aligned: 2 (dim 1) != 1 (dim 0)",
     "output_type": "error",
     "traceback": [
      "\u001b[1;31m---------------------------------------------------------------------------\u001b[0m",
      "\u001b[1;31mValueError\u001b[0m                                Traceback (most recent call last)",
      "Cell \u001b[1;32mIn[20], line 9\u001b[0m\n\u001b[0;32m      6\u001b[0m I \u001b[38;5;241m=\u001b[39m np\u001b[38;5;241m.\u001b[39midentity(\u001b[38;5;241m2\u001b[39m)\n\u001b[0;32m      7\u001b[0m alpha \u001b[38;5;241m=\u001b[39m \u001b[38;5;241m0.1\u001b[39m \n\u001b[1;32m----> 9\u001b[0m w_sgd \u001b[38;5;241m=\u001b[39m sgd(x, y, alpha)\n\u001b[0;32m     11\u001b[0m \u001b[38;5;66;03m# w = np.linalg.inv(x.T*x + alpha * I)*x.T*y # update this line\u001b[39;00m\n\u001b[0;32m     12\u001b[0m \u001b[38;5;66;03m# w=w.ravel()\u001b[39;00m\n\u001b[0;32m     15\u001b[0m lasso_sklearn \u001b[38;5;241m=\u001b[39m Lasso(alpha\u001b[38;5;241m=\u001b[39m\u001b[38;5;241m0.1\u001b[39m)\n",
      "Cell \u001b[1;32mIn[19], line 14\u001b[0m, in \u001b[0;36msgd\u001b[1;34m(x, y, alpha)\u001b[0m\n\u001b[0;32m     12\u001b[0m     grad \u001b[38;5;241m=\u001b[39m x[i] \u001b[38;5;241m*\u001b[39m (\u001b[38;5;241m-\u001b[39m\u001b[38;5;241m2\u001b[39m \u001b[38;5;241m*\u001b[39m (np\u001b[38;5;241m.\u001b[39mdot(x[i], w) \u001b[38;5;241m-\u001b[39m y[i])) \u001b[38;5;241m+\u001b[39m alpha \u001b[38;5;241m*\u001b[39m np\u001b[38;5;241m.\u001b[39msign(w)\n\u001b[0;32m     13\u001b[0m \u001b[38;5;28;01melse\u001b[39;00m:\n\u001b[1;32m---> 14\u001b[0m     grad \u001b[38;5;241m=\u001b[39m x[i] \u001b[38;5;241m*\u001b[39m (\u001b[38;5;241m-\u001b[39m\u001b[38;5;241m2\u001b[39m \u001b[38;5;241m*\u001b[39m (np\u001b[38;5;241m.\u001b[39mdot(x[i], w) \u001b[38;5;241m-\u001b[39m y[i])) \u001b[38;5;241m-\u001b[39m alpha \u001b[38;5;241m*\u001b[39m np\u001b[38;5;241m.\u001b[39msign(w)\n\u001b[0;32m     16\u001b[0m \u001b[38;5;66;03m# Update weights using gradient descent\u001b[39;00m\n\u001b[0;32m     17\u001b[0m w \u001b[38;5;241m=\u001b[39m w \u001b[38;5;241m-\u001b[39m learning_rate \u001b[38;5;241m*\u001b[39m grad\n",
      "File \u001b[1;32m~\\anaconda3\\Lib\\site-packages\\numpy\\matrixlib\\defmatrix.py:218\u001b[0m, in \u001b[0;36mmatrix.__mul__\u001b[1;34m(self, other)\u001b[0m\n\u001b[0;32m    215\u001b[0m \u001b[38;5;28;01mdef\u001b[39;00m \u001b[38;5;21m__mul__\u001b[39m(\u001b[38;5;28mself\u001b[39m, other):\n\u001b[0;32m    216\u001b[0m     \u001b[38;5;28;01mif\u001b[39;00m \u001b[38;5;28misinstance\u001b[39m(other, (N\u001b[38;5;241m.\u001b[39mndarray, \u001b[38;5;28mlist\u001b[39m, \u001b[38;5;28mtuple\u001b[39m)) :\n\u001b[0;32m    217\u001b[0m         \u001b[38;5;66;03m# This promotes 1-D vectors to row vectors\u001b[39;00m\n\u001b[1;32m--> 218\u001b[0m         \u001b[38;5;28;01mreturn\u001b[39;00m N\u001b[38;5;241m.\u001b[39mdot(\u001b[38;5;28mself\u001b[39m, asmatrix(other))\n\u001b[0;32m    219\u001b[0m     \u001b[38;5;28;01mif\u001b[39;00m isscalar(other) \u001b[38;5;129;01mor\u001b[39;00m \u001b[38;5;129;01mnot\u001b[39;00m \u001b[38;5;28mhasattr\u001b[39m(other, \u001b[38;5;124m'\u001b[39m\u001b[38;5;124m__rmul__\u001b[39m\u001b[38;5;124m'\u001b[39m) :\n\u001b[0;32m    220\u001b[0m         \u001b[38;5;28;01mreturn\u001b[39;00m N\u001b[38;5;241m.\u001b[39mdot(\u001b[38;5;28mself\u001b[39m, other)\n",
      "File \u001b[1;32m<__array_function__ internals>:200\u001b[0m, in \u001b[0;36mdot\u001b[1;34m(*args, **kwargs)\u001b[0m\n",
      "\u001b[1;31mValueError\u001b[0m: shapes (1,2) and (1,1) not aligned: 2 (dim 1) != 1 (dim 0)"
     ]
    }
   ],
   "source": [
    "x = np.array([188, 181, 197, 168, 167, 187, 178, 194, 140, 176, 168, 192, 173, 142, 176]).reshape(-1, 1).reshape(15,1)\n",
    "y = np.array([141, 106, 149, 59, 79, 136, 65, 136, 52, 87, 115, 140, 82, 69, 121]).reshape(-1, 1).reshape(15,1)\n",
    "\n",
    "x = np.asmatrix(np.c_[np.ones((15,1)),x])\n",
    "\n",
    "I = np.identity(2)\n",
    "alpha = 0.1 \n",
    "\n",
    "\n",
    "w = np.linalg.inv(x.T*x + alpha * I)*x.T*y # update this line\n",
    "w=w.ravel()\n"
   ]
  },
  {
   "cell_type": "markdown",
   "metadata": {},
   "source": [
    "## 3. Extend the Fisher's classifier\n",
    "\n",
    "Please extend the targets of the ``iris_data`` variable and use it as the $y$."
   ]
  },
  {
   "cell_type": "code",
   "execution_count": 3,
   "metadata": {},
   "outputs": [],
   "source": [
    "import pandas as pd\n",
    "import numpy as np\n",
    "import matplotlib.pyplot as plt\n",
    "from sklearn.datasets import load_iris\n",
    "\n",
    "iris_data = load_iris()\n",
    "iris_df = pd.DataFrame(iris_data.data,columns=iris_data.feature_names)\n",
    "iris_df.head()\n",
    "\n",
    "x1 = iris_df['sepal width (cm)'].values # change here\n",
    "x2 = iris_df['sepal length (cm)'].values # change here\n",
    "y = iris_df['petal length (cm)'].values\n",
    "\n",
    "dataset_size = np.size(x)\n",
    "\n",
    "mean_x1, mean_x2, mean_y = np.mean(x1), np.mean(x2), np.mean(y)\n",
    "\n",
    "SS_x1y = np.sum(x1 * y) - dataset_size * mean_x1 * mean_y\n",
    "SS_x2y = np.sum(x2 * y) - dataset_size * mean_x2 * mean_y\n",
    "SS_x1x1 = np.sum(x1 * x1) - dataset_size * mean_x1 * mean_x1\n",
    "SS_x2x2 = np.sum(x2 * x2) - dataset_size * mean_x2 * mean_x2\n",
    "\n",
    "a1 = SS_x1y / SS_x1x1\n",
    "a2 = SS_x2y / SS_x2x2\n",
    "b = mean_y - a1 * mean_x1 - a2 * mean_x2\n",
    "\n",
    "y_pred = a1 * x1 + a2 * x2 + b"
   ]
  },
  {
   "cell_type": "code",
   "execution_count": 4,
   "metadata": {},
   "outputs": [
    {
     "data": {
      "text/plain": [
       "array([1.60844009, 2.10436426, 1.38563336, 1.37331221, 1.24907464,\n",
       "       1.47188138, 0.85274575, 1.59611895, 1.34866992, 1.93084211,\n",
       "       1.81892568, 1.22443235, 1.91852096, 0.98930447, 2.04173241,\n",
       "       1.16180051, 1.47188138, 1.60844009, 2.20293342, 1.08787363,\n",
       "       2.33949214, 1.26139579, 0.50570145, 1.9554844 , 1.22443235,\n",
       "       2.29020756, 1.59611895, 1.79428339, 1.96780554, 1.38563336,\n",
       "       1.74499881, 2.33949214, 0.75315047, 1.13715822, 1.93084211,\n",
       "       1.94316325, 2.35181328, 1.06323134, 1.17514777, 1.78196224,\n",
       "       1.42259679, 2.57564613, 0.82810346, 1.42259679, 1.08787363,\n",
       "       1.91852096, 1.08787363, 1.19979006, 1.63308238, 1.7696411 ,\n",
       "       5.66002921, 4.54496942, 5.64770806, 4.43407911, 5.42490133,\n",
       "       3.93815495, 4.18560397, 3.14549717, 5.43722247, 3.18246061,\n",
       "       4.02542908, 3.96279724, 5.53681775, 4.50800598, 3.5787895 ,\n",
       "       5.27602147, 3.40526734, 4.2975204 , 5.90850435, 4.2728781 ,\n",
       "       3.61575293, 4.68152814, 5.57378119, 4.68152814, 5.06553588,\n",
       "       5.26370032, 5.98243122, 5.44954362, 4.32216269, 4.28519925,\n",
       "       4.26055696, 4.26055696, 4.2975204 , 4.66920699, 3.03358075,\n",
       "       3.45455192, 5.27602147, 5.92082549, 3.40526734, 4.08703481,\n",
       "       3.91351265, 4.33448383, 4.47104255, 3.50486262, 3.9258338 ,\n",
       "       3.59111064, 3.76463279, 4.69384928, 3.34366162, 3.93815495,\n",
       "       4.18560397, 4.2975204 , 6.19291681, 4.87969258, 5.07785702,\n",
       "       7.1221333 , 2.97197502, 6.73812556, 6.31715438, 5.33762719,\n",
       "       4.73081272, 5.41258018, 5.63538692, 4.4587214 , 4.12399824,\n",
       "       4.54496942, 5.07785702, 5.91979938, 8.00206521, 5.53681775,\n",
       "       5.47418591, 3.75231165, 7.6550209 , 5.22673688, 4.92897716,\n",
       "       6.0317158 , 4.86737143, 4.33448383, 5.23905803, 6.37876011,\n",
       "       7.09749101, 6.29148597, 5.23905803, 5.05321473, 5.02857244,\n",
       "       7.3079766 , 4.01208182, 4.71849157, 4.14864053, 5.64770806,\n",
       "       5.27602147, 5.64770806, 4.2975204 , 5.28834261, 4.92897716,\n",
       "       5.44954362, 5.57378119, 5.07785702, 3.82623852, 3.96279724])"
      ]
     },
     "execution_count": 4,
     "metadata": {},
     "output_type": "execute_result"
    }
   ],
   "source": [
    "y_pred"
   ]
  },
  {
   "cell_type": "code",
   "execution_count": null,
   "metadata": {},
   "outputs": [],
   "source": []
  }
 ],
 "metadata": {
  "kernelspec": {
   "display_name": "Python 3 (ipykernel)",
   "language": "python",
   "name": "python3"
  },
  "language_info": {
   "codemirror_mode": {
    "name": "ipython",
    "version": 3
   },
   "file_extension": ".py",
   "mimetype": "text/x-python",
   "name": "python",
   "nbconvert_exporter": "python",
   "pygments_lexer": "ipython3",
   "version": "3.11.5"
  }
 },
 "nbformat": 4,
 "nbformat_minor": 4
}
